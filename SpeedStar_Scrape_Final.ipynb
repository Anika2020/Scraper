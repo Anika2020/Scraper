{
  "nbformat": 4,
  "nbformat_minor": 0,
  "metadata": {
    "colab": {
      "name": "SpeedStar_Scrape_Final.ipynb",
      "provenance": [],
      "include_colab_link": true
    },
    "kernelspec": {
      "name": "python3",
      "display_name": "Python 3"
    }
  },
  "cells": [
    {
      "cell_type": "markdown",
      "metadata": {
        "id": "view-in-github",
        "colab_type": "text"
      },
      "source": [
        "<a href=\"https://colab.research.google.com/github/Anika2020/Scraper/blob/main/SpeedStar_Scrape_Final.ipynb\" target=\"_parent\"><img src=\"https://colab.research.google.com/assets/colab-badge.svg\" alt=\"Open In Colab\"/></a>"
      ]
    },
    {
      "cell_type": "markdown",
      "metadata": {
        "id": "TIecZ5qVLwo-"
      },
      "source": [
        "# Import libraries"
      ]
    },
    {
      "cell_type": "code",
      "metadata": {
        "id": "QjGXgddWJNq3"
      },
      "source": [
        "from bs4 import BeautifulSoup\n",
        "import numpy as np\n",
        "import pandas as pd\n",
        "import requests\n",
        "from time import sleep\n",
        "from random import randint"
      ],
      "execution_count": null,
      "outputs": []
    },
    {
      "cell_type": "markdown",
      "metadata": {
        "id": "ZqwYyQMxL2Md"
      },
      "source": [
        "#Create objects for url to scrape from multiple pages"
      ]
    },
    {
      "cell_type": "code",
      "metadata": {
        "id": "M9OOonJaJP_G",
        "outputId": "68bf6f2f-9175-4a9a-9b63-a8172a9ea401",
        "colab": {
          "base_uri": "https://localhost:8080/",
          "height": 35
        }
      },
      "source": [
        "pages = np.arange(1,10, 1)\n",
        "print(pages)\n",
        "providers = ['youi-car-insurance','budget-direct-car-insurance'] #Based on popularity. More reviews, more data."
      ],
      "execution_count": null,
      "outputs": [
        {
          "output_type": "stream",
          "text": [
            "[1 2 3 4 5 6 7 8 9]\n"
          ],
          "name": "stdout"
        }
      ]
    },
    {
      "cell_type": "code",
      "metadata": {
        "id": "FxH3mK6WMqaY"
      },
      "source": [
        "             #'seniors-car-insurance', 'coles-car-insurance', \n",
        "            # 'aami-car-insurance']\n",
        " # 'nrma-car-insurance', 'woolworths-car-insurance', 'australian-warranty-network',\n",
        "#'bingle', 'allianz-car-insurance', 'racv-car-insurance','real-insurance-motor-vehicle'"
      ],
      "execution_count": null,
      "outputs": []
    },
    {
      "cell_type": "markdown",
      "metadata": {
        "id": "rZ93d7EzME2d"
      },
      "source": [
        "#Scraper Design"
      ]
    },
    {
      "cell_type": "code",
      "metadata": {
        "id": "OKEIvcFvJVQe",
        "outputId": "dee73f1e-9f83-4e02-e84a-9e53b6bb1d9b",
        "colab": {
          "base_uri": "https://localhost:8080/",
          "height": 347
        }
      },
      "source": [
        "data=[]\n",
        "for value in providers:#Looping through listings by providers (Outer)\n",
        " for page in pages:#Looping through pages within listings (Inner)\n",
        "    \n",
        "    url=\"https://www.productreview.com.au/listings/\"+value+ \"?page=\" + str(page) + \"#reviews\" #Based on url logic\n",
        "    page = requests.get(url)\n",
        "    print(page)\n",
        "    sleep(randint(2,10)) #To tackle response 429: too many requests\n",
        "    soup = BeautifulSoup(page.text, 'html.parser')\n",
        "    total_reviews = soup.findAll(\"div\", {'itemprop':'review'})\n",
        "    for consolidated in total_reviews:#Loop to append pagewise reviews\n",
        "        data.append(consolidated)\n",
        "    \n",
        "len(total_reviews)\n",
        "len(data)"
      ],
      "execution_count": null,
      "outputs": [
        {
          "output_type": "stream",
          "text": [
            "<Response [200]>\n",
            "<Response [200]>\n",
            "<Response [200]>\n",
            "<Response [200]>\n",
            "<Response [200]>\n",
            "<Response [200]>\n",
            "<Response [200]>\n",
            "<Response [200]>\n",
            "<Response [200]>\n",
            "<Response [200]>\n",
            "<Response [200]>\n",
            "<Response [200]>\n",
            "<Response [200]>\n",
            "<Response [200]>\n",
            "<Response [200]>\n",
            "<Response [200]>\n",
            "<Response [200]>\n",
            "<Response [200]>\n"
          ],
          "name": "stdout"
        },
        {
          "output_type": "execute_result",
          "data": {
            "text/plain": [
              "360"
            ]
          },
          "metadata": {
            "tags": []
          },
          "execution_count": 4
        }
      ]
    },
    {
      "cell_type": "markdown",
      "metadata": {
        "id": "lrDlp36NOoDm"
      },
      "source": [
        "#Forming dataframe outline for extracted features"
      ]
    },
    {
      "cell_type": "code",
      "metadata": {
        "id": "If8EKw0SJZZT"
      },
      "source": [
        "reviews = []\n",
        "\n",
        "for reviewBox in data:\n",
        "\n",
        "    #Review title\n",
        "    review_title = reviewBox.find('h3', {\"class\": \"mb-2_3ol\"}).text\n",
        "    \n",
        "    #Review text\n",
        "    review_text = reviewBox.find('p', {\"class\": \"mb-0_2CX\"}).text\n",
        "    \n",
        "    #Review date\n",
        "    review_date = reviewBox.find('meta', {'itemprop': 'datePublished'})['content']\n",
        "\n",
        "    #Review star rating\n",
        "    review_stars = reviewBox.find('meta', {'itemprop': 'ratingValue'})['content']\n",
        "    \n",
        "    # append the process review and the title to the reviews list\n",
        "    reviews.append([review_title, review_text, review_date, review_stars])"
      ],
      "execution_count": null,
      "outputs": []
    },
    {
      "cell_type": "markdown",
      "metadata": {
        "id": "Pv9CCZHTPFQ2"
      },
      "source": [
        "#Exporting scrape results"
      ]
    },
    {
      "cell_type": "code",
      "metadata": {
        "id": "nxvwlBMiKBg5"
      },
      "source": [
        "output_column_names = ['title', 'review', 'date', 'stars']\n",
        "df1 = pd.DataFrame(reviews, columns=output_column_names)\n",
        "df1.to_csv('SpeedStar_Reviews_Scrape.csv', index=None)"
      ],
      "execution_count": null,
      "outputs": []
    }
  ]
}